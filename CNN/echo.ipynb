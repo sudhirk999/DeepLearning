{
  "nbformat": 4,
  "nbformat_minor": 0,
  "metadata": {
    "colab": {
      "name": "echo.ipynb",
      "version": "0.3.2",
      "provenance": []
    },
    "kernelspec": {
      "name": "python3",
      "display_name": "Python 3"
    }
  },
  "cells": [
    {
      "metadata": {
        "id": "NLxvUEjaLsEQ",
        "colab_type": "code",
        "colab": {}
      },
      "cell_type": "code",
      "source": [
        "import matplotlib.pyplot as plt\n",
        "import numpy as np\n",
        "import wave\n",
        "import sys\n",
        "from scipy.io.wavfile import write"
      ],
      "execution_count": 0,
      "outputs": []
    },
    {
      "metadata": {
        "id": "Bp9RMxQrPq7R",
        "colab_type": "text"
      },
      "cell_type": "markdown",
      "source": [
        "* sampling rate = 16000 Hz\n",
        "* bits per sample = 16\n",
        "1. The first is quantization in time\n",
        "2. The second is quantization in amplitude\n",
        "\n",
        "> Sampling rate is the quantization on the sound signal in time. So in the real world, sound is continous, but in the computers, the sound is represented by 16000 samples in each seconds.\n",
        "\n",
        "> The second type of quantization going on, in Amplitude. So again, in real world sound, which is the air pressure, that can take on any real value, but in the computer, we represent it with 16 bits,\n",
        "which is 2^16 different values.\n"
      ]
    },
    {
      "metadata": {
        "id": "yjkX87jALuwY",
        "colab_type": "code",
        "colab": {}
      },
      "cell_type": "code",
      "source": [
        "# Opening the music file\n",
        "spf = wave.open('helloworld.wav','r')"
      ],
      "execution_count": 0,
      "outputs": []
    },
    {
      "metadata": {
        "id": "cXLP8TfWPwiZ",
        "colab_type": "text"
      },
      "cell_type": "markdown",
      "source": [
        "> So in order turn the signal into the numpy array we need to call the function readframes, and the we need to call a function fromstring with the second parameter specifying that it's encoded as a 16 bit integer.\n"
      ]
    },
    {
      "metadata": {
        "id": "rtcRumZfOn0o",
        "colab_type": "code",
        "colab": {
          "base_uri": "https://localhost:8080/",
          "height": 122
        },
        "outputId": "d72cff21-b461-4d39-d56d-8136edf504d3"
      },
      "cell_type": "code",
      "source": [
        "#Extract Raw Audio from Wav File\n",
        "signal = spf.readframes(-1)\n",
        "signal = np.fromstring(signal, 'Int16')\n",
        "signal.shape"
      ],
      "execution_count": 29,
      "outputs": [
        {
          "output_type": "stream",
          "text": [
            "/usr/local/lib/python3.6/dist-packages/ipykernel_launcher.py:2: DeprecationWarning: Numeric-style type codes are deprecated and will result in an error in the future.\n",
            "  \n",
            "/usr/local/lib/python3.6/dist-packages/ipykernel_launcher.py:2: DeprecationWarning: The binary mode of fromstring is deprecated, as it behaves surprisingly on unicode inputs. Use frombuffer instead\n",
            "  \n"
          ],
          "name": "stderr"
        },
        {
          "output_type": "execute_result",
          "data": {
            "text/plain": [
              "(18432,)"
            ]
          },
          "metadata": {
            "tags": []
          },
          "execution_count": 29
        }
      ]
    },
    {
      "metadata": {
        "id": "bDVtRGFTPWaA",
        "colab_type": "code",
        "colab": {
          "base_uri": "https://localhost:8080/",
          "height": 362
        },
        "outputId": "e86b370c-2b01-40a2-8abb-c66230090c82"
      },
      "cell_type": "code",
      "source": [
        "plt.plot(signal)\n",
        "plt.title(\"Hello world without echo\")\n",
        "plt.show()"
      ],
      "execution_count": 30,
      "outputs": [
        {
          "output_type": "display_data",
          "data": {
            "image/png": "[encoded data removed]",
            "text/plain": [
              "<Figure size 576x396 with 1 Axes>"
            ]
          },
          "metadata": {
            "tags": []
          }
        }
      ]
    },
    {
      "metadata": {
        "id": "SYiArKtVSEbc",
        "colab_type": "text"
      },
      "cell_type": "markdown",
      "source": [
        "The Convolution with the delta function.\n",
        "As the signal with delta function produces the original signal we can see here.....\n",
        "The original singnal will not change"
      ]
    },
    {
      "metadata": {
        "id": "2fbNc_RQRJet",
        "colab_type": "code",
        "colab": {
          "base_uri": "https://localhost:8080/",
          "height": 34
        },
        "outputId": "df710a45-45ba-4705-83a7-19930a6d6662"
      },
      "cell_type": "code",
      "source": [
        "delta = np.array([1., 0., 0.]) #one 1 and all 0's\n",
        "noecho = np.convolve(signal, delta)\n",
        "noecho.shape #shape will be changed"
      ],
      "execution_count": 32,
      "outputs": [
        {
          "output_type": "execute_result",
          "data": {
            "text/plain": [
              "(18434,)"
            ]
          },
          "metadata": {
            "tags": []
          },
          "execution_count": 32
        }
      ]
    },
    {
      "metadata": {
        "id": "Ha351KT7TADX",
        "colab_type": "code",
        "colab": {}
      },
      "cell_type": "code",
      "source": [
        "# make sure you do this, otherwise, you will get VERY LOUD NOISE\n",
        "\n",
        "noecho = noecho.astype(np.int16) \n",
        "write('noecho.wav', 16000, noecho)"
      ],
      "execution_count": 0,
      "outputs": []
    },
    {
      "metadata": {
        "id": "nPhEFzqcTREe",
        "colab_type": "code",
        "colab": {}
      },
      "cell_type": "code",
      "source": [
        "# Creating the filter for the echo\n",
        "# creating the filter that is 16000 sample long which is 1 second\n",
        "# And having the decreasing pattern at even intervals\n",
        "# So here, we repeate the original signal every 4000 samples which is quarter\n",
        "# of a second"
      ],
      "execution_count": 0,
      "outputs": []
    },
    {
      "metadata": {
        "id": "4W4c8wAbUKCe",
        "colab_type": "code",
        "colab": {}
      },
      "cell_type": "code",
      "source": [
        "filt = np.zeros(16000)\n",
        "\n",
        "filt[0] = 1   # filt=1 just to repeate itself\n",
        "filt[4000] = 0.3   # At 4000 decrease by 0.6\n",
        "filt[8000] = 0.2\n",
        "filt[15999] = 0.1\n",
        "\n",
        "# convolving the original sound with echo filter\n",
        "out = np.convolve(signal, filt)"
      ],
      "execution_count": 0,
      "outputs": []
    },
    {
      "metadata": {
        "id": "LbLKOnuiVFcr",
        "colab_type": "code",
        "colab": {}
      },
      "cell_type": "code",
      "source": [
        "# make sure you do this, otherwise, you will get VERY LOUD NOISE\n",
        "out = out.astype(np.int16)\n",
        "write('outecho.wav',16000, out)"
      ],
      "execution_count": 0,
      "outputs": []
    },
    {
      "metadata": {
        "id": "jezjhdPJVVBB",
        "colab_type": "code",
        "colab": {}
      },
      "cell_type": "code",
      "source": [
        ""
      ],
      "execution_count": 0,
      "outputs": []
    }
  ]
}