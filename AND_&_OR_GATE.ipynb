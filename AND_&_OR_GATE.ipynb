{
  "nbformat": 4,
  "nbformat_minor": 0,
  "metadata": {
    "colab": {
      "name": "AND & OR GATE.ipynb",
      "version": "0.3.2",
      "provenance": [],
      "include_colab_link": true
    },
    "kernelspec": {
      "name": "python3",
      "display_name": "Python 3"
    }
  },
  "cells": [
    {
      "cell_type": "markdown",
      "metadata": {
        "id": "view-in-github",
        "colab_type": "text"
      },
      "source": [
        "<a href=\"https://colab.research.google.com/github/sudhirk999/DeepLearning/blob/master/AND_%26_OR_GATE.ipynb\" target=\"_parent\"><img src=\"https://colab.research.google.com/assets/colab-badge.svg\" alt=\"Open In Colab\"/></a>"
      ]
    },
    {
      "metadata": {
        "id": "81qTbeD50xI0",
        "colab_type": "code",
        "colab": {}
      },
      "cell_type": "code",
      "source": [
        "## AND GATE"
      ],
      "execution_count": 0,
      "outputs": []
    },
    {
      "metadata": {
        "id": "xVW1xOt71CSn",
        "colab_type": "code",
        "colab": {}
      },
      "cell_type": "code",
      "source": [
        "W1 = 1\n",
        "W2 = 1\n",
        "b = 1"
      ],
      "execution_count": 0,
      "outputs": []
    },
    {
      "metadata": {
        "id": "nmgGwCT91JoW",
        "colab_type": "code",
        "colab": {}
      },
      "cell_type": "code",
      "source": [
        "test_inputs = [(0,0), (0,1), (1,0), (1,1)]\n",
        "correct_outputs = [False, False, False, True]\n",
        "outputs = []"
      ],
      "execution_count": 0,
      "outputs": []
    },
    {
      "metadata": {
        "id": "miv0Jxn21gdT",
        "colab_type": "code",
        "colab": {}
      },
      "cell_type": "code",
      "source": [
        "for inp, out in zip(test_inputs, correct_outputs):\n",
        "    res = W1*inp[0] + W2*inp[1] + b\n",
        "    output = int(res >= 0)\n",
        "    out_str = 'Yes' if output == out else 'No'\n",
        "    outputs.append([inp[0], inp[1], res, output, out_str])"
      ],
      "execution_count": 0,
      "outputs": []
    },
    {
      "metadata": {
        "id": "0A_BP2g03Npw",
        "colab_type": "code",
        "outputId": "fbde29d7-a181-46e9-f3dd-b4924b81ceb7",
        "colab": {
          "base_uri": "https://localhost:8080/",
          "height": 85
        }
      },
      "cell_type": "code",
      "source": [
        "outputs"
      ],
      "execution_count": 5,
      "outputs": [
        {
          "output_type": "execute_result",
          "data": {
            "text/plain": [
              "[[0, 0, 1, 1, 'No'],\n",
              " [0, 1, 2, 1, 'No'],\n",
              " [1, 0, 2, 1, 'No'],\n",
              " [1, 1, 3, 1, 'Yes']]"
            ]
          },
          "metadata": {
            "tags": []
          },
          "execution_count": 5
        }
      ]
    },
    {
      "metadata": {
        "id": "mdduAIuQ3VVE",
        "colab_type": "code",
        "colab": {}
      },
      "cell_type": "code",
      "source": [
        "## OR GATE"
      ],
      "execution_count": 0,
      "outputs": []
    },
    {
      "metadata": {
        "id": "uwU800_N40OM",
        "colab_type": "code",
        "colab": {}
      },
      "cell_type": "code",
      "source": [
        "W1 = 1\n",
        "W2 = 1\n",
        "b = 0"
      ],
      "execution_count": 0,
      "outputs": []
    },
    {
      "metadata": {
        "id": "LrSb01xw41BM",
        "colab_type": "code",
        "colab": {}
      },
      "cell_type": "code",
      "source": [
        "test_inputs = [(0,0), (0,1), (1,0), (1,1)]\n",
        "correct_outputs = [False, True, True, True]\n",
        "outputs = []"
      ],
      "execution_count": 0,
      "outputs": []
    },
    {
      "metadata": {
        "id": "p1Ps22PD43wd",
        "colab_type": "code",
        "colab": {}
      },
      "cell_type": "code",
      "source": [
        "for inp, out in zip(test_inputs, correct_outputs):\n",
        "    res = W1*inp[0] + W2*inp[1] + b\n",
        "    output = int(res >= 0)\n",
        "    out_str = 'Yes' if output == out else 'No'\n",
        "    outputs.append([inp[0], inp[1], res, output, out_str])"
      ],
      "execution_count": 0,
      "outputs": []
    },
    {
      "metadata": {
        "id": "ps5M1Obz47ZJ",
        "colab_type": "code",
        "outputId": "5952820b-fe0c-4cfe-c403-10894d18e082",
        "colab": {
          "base_uri": "https://localhost:8080/",
          "height": 85
        }
      },
      "cell_type": "code",
      "source": [
        "outputs"
      ],
      "execution_count": 10,
      "outputs": [
        {
          "output_type": "execute_result",
          "data": {
            "text/plain": [
              "[[0, 0, 0, 1, 'No'],\n",
              " [0, 1, 1, 1, 'Yes'],\n",
              " [1, 0, 1, 1, 'Yes'],\n",
              " [1, 1, 2, 1, 'Yes']]"
            ]
          },
          "metadata": {
            "tags": []
          },
          "execution_count": 10
        }
      ]
    },
    {
      "metadata": {
        "id": "63l_rO-y5I9H",
        "colab_type": "code",
        "colab": {}
      },
      "cell_type": "code",
      "source": [
        ""
      ],
      "execution_count": 0,
      "outputs": []
    }
  ]
}